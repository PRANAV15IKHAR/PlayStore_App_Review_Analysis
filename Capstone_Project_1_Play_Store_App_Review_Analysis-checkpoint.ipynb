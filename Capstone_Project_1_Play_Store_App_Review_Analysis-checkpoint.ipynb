{
 "cells": [
  {
   "cell_type": "markdown",
   "metadata": {
    "id": "vncDsAP0Gaoa"
   },
   "source": [
    "# **Project Name**    - Play Store App Review Analysis \n",
    "\n"
   ]
  },
  {
   "cell_type": "markdown",
   "metadata": {
    "id": "FJNUwmbgGyua"
   },
   "source": [
    "# **Project Summary -**\n"
   ]
  },
  {
   "cell_type": "markdown",
   "metadata": {
    "id": "F6v_1wHtG2nS"
   },
   "source": [
    "### **Hi everybody !**\n",
    "In this notebook, I'm gonna analyze Google Play Store datas. While I was analyzing the data, I used Python. This study is my first data analyzing study.\n",
    "\n",
    "Google Play Store apps and reviews Mobile apps are everywhere. They are easy to create and can be lucrative. Because of these two factors, more and more apps are being developed. In this notebook, we will do a comprehensive analysis of the Android app market by comparing over ten thousand apps in Google Play across different categories. We'll look for insights in the data to devise strategies to drive growth and retention.\n",
    "\n",
    "Let's take a look at the data, which consists of two files:\n",
    "\n",
    "* **playstore data.csv: contains all the details of the applications on Google Play. There are 13 features that describe a given app.**\n",
    "\n",
    "* **user_reviews.csv: contains 100 reviews for each app, most helpful first. The text in each review has been pre-processed and attributed with three new features: Sentiment (Positive, Negative or Neutral), Sentiment Polarity and Sentiment Subjectivity.**\n",
    "\n",
    "Before jumping into the data's provided, let me first explain you about the EDA analysis."
   ]
  },
  {
   "cell_type": "markdown",
   "metadata": {
    "id": "yQaldy8SH6Dl"
   },
   "source": [
    "# **Problem Statement**\n"
   ]
  },
  {
   "cell_type": "markdown",
   "metadata": {
    "id": "DpeJGUA3kjGy"
   },
   "source": [
    "1. Are majority of the apps Paid or Free?\n",
    "2. How importance is the rating of the application?\n",
    "3. Which categories from the audience should the app be based on?\n",
    "4. Which category has the most no. of installations?\n",
    "5. How does the count of apps varies by Genres?\n",
    "6. How does the last update has an effect on the rating?\n",
    "7. How are ratings affected when the app is a paid one?\n"
   ]
  },
  {
   "cell_type": "markdown",
   "metadata": {
    "id": "PH-0ReGfmX4f"
   },
   "source": [
    "# **What is Exploratory Data Analysis?**"
   ]
  },
  {
   "cell_type": "markdown",
   "metadata": {
    "id": "PhDvGCAqmjP1"
   },
   "source": [
    "Exploratory data analysis (EDA) is used by data scientists to analyze and investigate data sets for patterns, and anomalies (outliers), and form hypotheses based on our understanding of the dataset and summarize their main characteristics, often employing data visualization methods. It is an important step in any Data Analysis or Data Science project. It helps determine how best to manipulate data sources to get the answers you need.\n",
    "\n",
    "EDA involves generating summary statistics for numerical data in the dataset and creating various graphical representations to understand the data better and make it more attractive and appealing.\n",
    "\n",
    "The following are the various steps involved in the EDA process:\n",
    "1. <b>Problem Statement</b> - We shall brainstorm and understand the given data set. We shall study the attributes present in it and try to do a philosophical analysis about their meaning and importance for this problem.\n",
    "2. <b>Hypothesis</b> - Upon studying the attributes present in the data base, we shall develop some basic hypothesis on which we can work and play with the data to look for the varied results which we can get out of it.\n",
    "3. <b>Univariate Analysis</b> - It is the simplest form of analyzing the data. In this we would initially pick up a single attribute and study it in and out. It doesn't deal with any sort of co-relation and it's major purpose is to describe. It takes data, summarizes that data and finds patterns in the data.\n",
    "4. <b>Bivariate Analysis</b> - This analysis is related to cause and the relationship between the two attributes. We will try to understand the dependency of attributes on each other.\n",
    "5. <b>Multivariate Analysis</b> - This is done when more than two variables have to be analyzed simultaneously.\n",
    "5. <b>Data Cleaning</b> - We shall clean the dataset and handle the missing data, outliers and categorical variables.\n",
    "6. <b>Testing Hypothesis</b> - We shall check if our data meets the assumptions required by most of the multivariate techniques."
   ]
  },
  {
   "cell_type": "markdown",
   "metadata": {
    "id": "Ob8ggphiondl"
   },
   "source": [
    "# ▶**Exploring Play store data:**"
   ]
  },
  {
   "cell_type": "code",
   "execution_count": null,
   "metadata": {
    "id": "MJiMpYkLotPN"
   },
   "outputs": [],
   "source": [
    "#import library\n",
    "import pandas as pd \n",
    "import numpy as np\n",
    "import matplotlib.pyplot as plt\n",
    "import seaborn as sns  \n",
    "from datetime import datetime\n",
    "# plotly\n",
    "import plotly \n",
    "plotly.offline.init_notebook_mode(connected=True)\n",
    "import plotly.graph_objs as go\n",
    "import warnings\n",
    "#sns.set(font_scale=1.5)\n",
    "warnings.filterwarnings(\"ignore\")"
   ]
  },
  {
   "cell_type": "markdown",
   "metadata": {
    "id": "ALkokgKspXWf"
   },
   "source": [
    "# **Lets Explore play store DataFrame**"
   ]
  },
  {
   "cell_type": "code",
   "execution_count": null,
   "metadata": {
    "id": "m08KmcgNpipe"
   },
   "outputs": [],
   "source": [
    "# loading csv File\n",
    "ps_df = pd.read_csv(\"/content/Play Store Data (1).csv\")"
   ]
  },
  {
   "cell_type": "code",
   "execution_count": null,
   "metadata": {
    "id": "3NlsHSWZqWYy"
   },
   "outputs": [],
   "source": [
    "# Display the Play Store App data\n",
    "play_store=pd.concat([ps_df.head(),ps_df.tail()])\n",
    "play_store"
   ]
  },
  {
   "cell_type": "code",
   "execution_count": null,
   "metadata": {
    "id": "ZagHstUvqiQT"
   },
   "outputs": [],
   "source": [
    "ps_df.info()"
   ]
  },
  {
   "cell_type": "code",
   "execution_count": null,
   "metadata": {
    "id": "U3cWvUGhqk0f"
   },
   "outputs": [],
   "source": [
    "# Finding the number of rows and columns in the given dataset\n",
    "print(ps_df.columns)\n",
    "rows=ps_df.shape[0]\n",
    "columns=ps_df.shape[1]\n",
    "print(f\"the no of rows is {rows} and no of columns is {columns}\")"
   ]
  },
  {
   "cell_type": "code",
   "execution_count": null,
   "metadata": {
    "id": "lqtJW1Hzqxun"
   },
   "outputs": [],
   "source": [
    "ps_df.describe()"
   ]
  },
  {
   "cell_type": "markdown",
   "metadata": {
    "id": "5XA3WS_RrD20"
   },
   "source": [
    "**Let us first define what information the columns contain based on our inspection.**\n",
    "\n",
    "play_store dataframe has 10841 rows and 13 columns. The 13 columns are identified as below:\n",
    "1. **App** - It tells us about the name of the application with a short description (optional).\n",
    "2. **Category** - It gives the category to the app.\n",
    "3. **Rating** - It contains the average rating the respective app received from its users.\n",
    "4. **Reviews** - It tells us about the total number of users who have given a review for the application.\n",
    "5. **Size** - It tells us about the size being occupied the application on the mobile phone.\n",
    "6. **Installs** - It tells us about the total number of installs/downloads for an application.\n",
    "7. **Type** - IIt states whether an app is free to use or paid.\n",
    "8. **Price** - It gives the price payable to install the app. For free type apps, the price is zero.\n",
    "9. **Content Rating** - It states whether or not an app is suitable for all age groups or not.\n",
    "10. **Genres** - It tells us about the various other categories to which an application can belong.\n",
    "11. **Last Updated** - It tells us about the when the application was updated.\n",
    "12. **Current Ver** - It tells us about the current version of the application.\n",
    "13.**Android Ver** - It tells us about the android version which can support the application on its platform."
   ]
  },
  {
   "cell_type": "markdown",
   "metadata": {
    "id": "pf1vv7Zo3vgQ"
   },
   "source": [
    "# **Cleaning of the data**\n",
    "\n",
    "The three features that we will be working with most frequently henceforth are Installs, Size, and Price. A careful glance of the dataset reveals that some of these columns mandate data cleaning in order to be consumed by code we'll write later. Specifically, the presence of special characters (, $ +) and letters (M k) in the Installs, Size, and Price columns make their conversion to a numerical data type difficult. Let's clean by removing these and converting each column to a numeric type.\n",
    "\n",
    "\n",
    "\n",
    "Removing the Nan value and Duplicate present in the data set"
   ]
  },
  {
   "cell_type": "markdown",
   "metadata": {
    "id": "wV4drDLYrTjs"
   },
   "source": [
    "# **Handling the NaN values in the Play store data**"
   ]
  },
  {
   "cell_type": "code",
   "execution_count": null,
   "metadata": {
    "id": "SKKVMMZprgw0"
   },
   "outputs": [],
   "source": [
    "def playstoreinfo():\n",
    "  temp=pd.DataFrame(index=ps_df.columns)\n",
    "  temp[\"datatype\"]=ps_df.dtypes\n",
    "  temp[\"not null values\"]=ps_df.count()\n",
    "  temp[\"null value\"]=ps_df.isnull().sum()\n",
    "  temp[\"% of the null value\"]=ps_df.isnull().mean()\n",
    "  temp[\"unique count\"]=ps_df.nunique()\n",
    "  return temp\n",
    "playstoreinfo()"
   ]
  },
  {
   "cell_type": "markdown",
   "metadata": {
    "id": "1FXaEME64BVN"
   },
   "source": [
    "**Findings**\n",
    "\n",
    "`The number of null values are:`\n",
    "\n",
    "Rating has 1474 null values which contributes 13.60% of the data.\n",
    "Type has 1 null value which contributes 0.01% of the data.\n",
    "Content_Rating has 1 null value which contributes 0.01% of the data.\n",
    "Current_Ver has 8 null values which contributes 0.07% of the data.\n",
    "Android_Ver has 3 null values which contributes 0.03% of the data."
   ]
  },
  {
   "cell_type": "markdown",
   "metadata": {
    "id": "1Eldlqeq4GFi"
   },
   "source": []
  },
  {
   "cell_type": "markdown",
   "metadata": {
    "id": "1T_IKgM5rydT"
   },
   "source": [
    "### **`1). Android Ver: There are a total of 3 NaN values in this column.`**"
   ]
  },
  {
   "cell_type": "code",
   "execution_count": null,
   "metadata": {
    "id": "xYj_wOGtr58J"
   },
   "outputs": [],
   "source": [
    "# The rows containing NaN values in the Android Ver column\n",
    "ps_df[ps_df[\"Android Ver\"].isnull()]\n",
    "# dropping rows corresponding to the to the NaN values in the 'Android Ver' column.\n",
    "ps_df=ps_df[ps_df['Android Ver'].notna()]\n",
    "# Shape of the updated dataframe\n",
    "ps_df.shape"
   ]
  },
  {
   "cell_type": "markdown",
   "metadata": {
    "id": "pQ7jmNno4Ua3"
   },
   "source": [
    "Since the NaN values in the Android Ver column cannot be replaced by any particular value, and, since there are only 3 rows which contain NaN values in this column, which accounts to less than 0.03% of the total rows in the given dataset, it can be be dropped."
   ]
  },
  {
   "cell_type": "markdown",
   "metadata": {
    "id": "Si9oDsf94h9B"
   },
   "source": [
    "We were successfully able to handle the NaN values in the` Android Ver `column."
   ]
  },
  {
   "cell_type": "markdown",
   "metadata": {
    "id": "JvCeDJKysT2f"
   },
   "source": [
    "### **`2). Current Ver: There are a total of 8 NaN values in this column.`**"
   ]
  },
  {
   "cell_type": "code",
   "execution_count": null,
   "metadata": {
    "id": "mpMznBTasgIl"
   },
   "outputs": [],
   "source": [
    "# The rows containing NaN values in the Current Ver column\n",
    "ps_df[ps_df[\"Current Ver\"].isnull()]\n",
    "# Finding the different values the 'Current Ver' column takes\n",
    "ps_df['Current Ver'].value_counts()\n",
    "# dropping rows corresponding to the values which contain NaN in the column 'Current Ver'.\n",
    "ps_df=ps_df[ps_df[\"Current Ver\"].notna()]\n",
    "# Shape of the updated dataframe\n",
    "ps_df.shape"
   ]
  },
  {
   "cell_type": "markdown",
   "metadata": {
    "id": "wARxn_OX4lrX"
   },
   "source": [
    "Since there are only 8 rows which contain NaN values in the Current Ver column, and it accounts to just around 0.07% of the total rows in the given dataset, and there is no particular value with which we can replace it, these rows can be dropped."
   ]
  },
  {
   "cell_type": "markdown",
   "metadata": {
    "id": "j6GaljcEsyEK"
   },
   "source": [
    "### **`3). Type: There is only one NaN value in this column.`** "
   ]
  },
  {
   "cell_type": "code",
   "execution_count": null,
   "metadata": {
    "id": "7NAqNDmSs90_"
   },
   "outputs": [],
   "source": [
    "# The row containing NaN values in the Type column\n",
    "ps_df[ps_df[\"Type\"].isnull()]\n"
   ]
  },
  {
   "cell_type": "code",
   "execution_count": null,
   "metadata": {
    "id": "VrYMuFvEtGir"
   },
   "outputs": [],
   "source": [
    "# Finding the different values the 'Type' column takes\n",
    "ps_df[\"Type\"].value_counts()"
   ]
  },
  {
   "cell_type": "code",
   "execution_count": null,
   "metadata": {
    "id": "LqU8j58vtJZr"
   },
   "outputs": [],
   "source": [
    "# Replacing the NaN value in 'Type' column corresponding to row index 9148 with 'Free'\n",
    "ps_df.loc[9148,'Type']='Free'"
   ]
  },
  {
   "cell_type": "code",
   "execution_count": null,
   "metadata": {
    "id": "eDwCUg5UtM9Q"
   },
   "outputs": [],
   "source": [
    "ps_df[ps_df[\"Type\"].isnull()]"
   ]
  },
  {
   "cell_type": "markdown",
   "metadata": {
    "id": "Ma7b8T2U46u_"
   },
   "source": [
    "The `Type `column contains only two entries, namely, `Free` and `Paid`. Also, if the app is of t`ype-paid`, the price of that app will be printed in the corresponding `Price` column, else, it will show as '0'. In this case, the price for the respective app is printed as '0', which means the app is of type-free. Hence we can replace this NaN value with Free."
   ]
  },
  {
   "cell_type": "markdown",
   "metadata": {
    "id": "HU4cu4pNtRCz"
   },
   "source": [
    "### **`4). Rating: This column contains 1470 NaN values.`**"
   ]
  },
  {
   "cell_type": "code",
   "execution_count": null,
   "metadata": {
    "id": "lXUHacuQtdMm"
   },
   "outputs": [],
   "source": [
    "# The rows containing NaN values in the Rating column\n",
    "ps_df[ps_df['Rating'].isnull()]"
   ]
  },
  {
   "cell_type": "code",
   "execution_count": null,
   "metadata": {
    "id": "PKoAwdlpth7_"
   },
   "outputs": [],
   "source": [
    "ps_df[(ps_df['Rating'] <1) | (ps_df['Rating']>5)]"
   ]
  },
  {
   "cell_type": "markdown",
   "metadata": {
    "id": "A5Do1R8b5E2Y"
   },
   "source": [
    "Also, we know that the rating of any app in the play store will be in between 1 and 5. Lets check whether there are any ratings out of this range."
   ]
  },
  {
   "cell_type": "code",
   "execution_count": null,
   "metadata": {
    "id": "t5Bvj4B3tmkQ"
   },
   "outputs": [],
   "source": [
    "# Finding mean and median in the Rating column excluding the NaN values.\n",
    "\n",
    "mean_rating = round(ps_df[~ps_df['Rating'].isnull()]['Rating'].mean(),4)\n",
    "\n",
    "median_rating = ps_df[~ps_df['Rating'].isnull()]['Rating'].median()\n",
    "\n",
    "[mean_rating , median_rating]"
   ]
  },
  {
   "cell_type": "markdown",
   "metadata": {
    "id": "3HLpFRGmt7xF"
   },
   "source": [
    "**Visualization of distribution of rating using displot and detecting the outliers through boxplot.**"
   ]
  },
  {
   "cell_type": "code",
   "execution_count": null,
   "metadata": {
    "id": "Xovlog9PuHTh"
   },
   "outputs": [],
   "source": [
    "fig, ax = plt.subplots(2,1, figsize=(12,7))\n",
    "sns.distplot(ps_df['Rating'],color='green',ax=ax[0])\n",
    "sns.boxplot(x='Rating',data=ps_df, ax=ax[1],color='red')"
   ]
  },
  {
   "cell_type": "markdown",
   "metadata": {
    "id": "mIjiSXug5Nx6"
   },
   "source": [
    "* The mean of the average ratings (excluding the NaN values) comes to be 4.2.\n",
    "\n",
    "* The median of the entries (excluding the NaN values) in the 'Rating' column comes to be 4.3. From this we can say that 50% of the apps have an average rating of above 4.3, and the rest below 4.3.\n",
    "* From the distplot visualizations, it is clear that the ratings are left skewed.\n",
    "* We know that if the variable is skewed, the mean is biased by the values at the far end of the distribution. Therefore, the median is a better representation of the majority of the values in the variable.\n",
    "* Hence we will impute the NaN values in the Rating column with its median."
   ]
  },
  {
   "cell_type": "code",
   "execution_count": null,
   "metadata": {
    "id": "yNp5LPURufOG"
   },
   "outputs": [],
   "source": [
    "# Replacing the NaN values in the 'Rating' colunm with its median value\n",
    "ps_df['Rating'].fillna(value=median_rating,inplace=True)"
   ]
  },
  {
   "cell_type": "markdown",
   "metadata": {
    "id": "OcMrRxqfuk5J"
   },
   "source": [
    "# **Handling duplicates values and Manipulating dataset:**\n",
    "### **`1).Handling the duplicates in the  `App `column`**"
   ]
  },
  {
   "cell_type": "code",
   "execution_count": null,
   "metadata": {
    "id": "5fpe7UFvuiGh"
   },
   "outputs": [],
   "source": [
    "# Handling the error values in the Play store data\n",
    "ps_df.head()"
   ]
  },
  {
   "cell_type": "code",
   "execution_count": null,
   "metadata": {
    "id": "oUEJVDwYuw_j"
   },
   "outputs": [],
   "source": [
    "ps_df['App'].value_counts()"
   ]
  },
  {
   "cell_type": "code",
   "execution_count": null,
   "metadata": {
    "id": "d9A4TYmAu6Qh"
   },
   "outputs": [],
   "source": [
    "# Inspecting the duplicates values.\n",
    "ps_df[ps_df['App']=='ROBLOX']"
   ]
  },
  {
   "cell_type": "code",
   "execution_count": null,
   "metadata": {
    "id": "fhxnux8rvHg0"
   },
   "outputs": [],
   "source": [
    "ps_df[ps_df.duplicated()]"
   ]
  },
  {
   "cell_type": "code",
   "execution_count": null,
   "metadata": {
    "id": "iFLyo_5WvJHo"
   },
   "outputs": [],
   "source": [
    "# dropping duplicates from the 'App' column.\n",
    "ps_df.drop_duplicates(subset = 'App', inplace = True)\n",
    "ps_df.shape"
   ]
  },
  {
   "cell_type": "code",
   "execution_count": null,
   "metadata": {
    "id": "p-8_K259vR-J"
   },
   "outputs": [],
   "source": [
    "# Checking whether the duplicates in the 'App' column are taken care of or not\n",
    "ps_df[ps_df['App']=='ROBLOX']"
   ]
  },
  {
   "cell_type": "markdown",
   "metadata": {
    "id": "SvjzGIUi5X81"
   },
   "source": [
    "We have successfully handled all the duplicate values in the App column. The resultant number of rows after droping the duplicate rows in the app column come out to be 9649."
   ]
  },
  {
   "cell_type": "markdown",
   "metadata": {
    "id": "T8gbQCfsvn3u"
   },
   "source": [
    "### **`2). Changing the datatype of the Last Updated column from string to datetime.`**"
   ]
  },
  {
   "cell_type": "code",
   "execution_count": null,
   "metadata": {
    "id": "YlnclvKDvacS"
   },
   "outputs": [],
   "source": [
    "# Pandas to_datetime() function applied to the values in the last updated column helps to convert string Date time into Python Date time object.\n",
    "ps_df[\"Last Updated\"] = pd.to_datetime(ps_df['Last Updated'])\n",
    "ps_df.head()"
   ]
  },
  {
   "cell_type": "markdown",
   "metadata": {
    "id": "CB-5zRlgv0v4"
   },
   "source": [
    "### **`3). Changing the datatype of the `Price `column from string to float`.**"
   ]
  },
  {
   "cell_type": "code",
   "execution_count": null,
   "metadata": {
    "id": "qTNoDs5nvvHd"
   },
   "outputs": [],
   "source": [
    "ps_df['Price'].value_counts()"
   ]
  },
  {
   "cell_type": "code",
   "execution_count": null,
   "metadata": {
    "id": "J98Q7Kf-v89A"
   },
   "outputs": [],
   "source": [
    "# Creating a function drop-dollar which dropps the $ symbol if it is present and returns the output which is of float datatype.\n",
    "def convert_dollar(val):\n",
    "  '''\n",
    "  This funtion drops the $ symbol if present and returns the value with float datatype.\n",
    "  '''\n",
    "  if '$' in val:\n",
    "    return float(val[1:])\n",
    "  else:\n",
    "    return float(val)"
   ]
  },
  {
   "cell_type": "code",
   "execution_count": null,
   "metadata": {
    "id": "FB8ShtU0wFS7"
   },
   "outputs": [],
   "source": [
    "# The drop_dollar funtion applied to the price column\n",
    "ps_df['Price']=ps_df['Price'].apply(lambda x: convert_dollar(x))\n",
    "ps_df.head()"
   ]
  },
  {
   "cell_type": "code",
   "execution_count": null,
   "metadata": {
    "id": "Y39qyIESwSgN"
   },
   "outputs": [],
   "source": [
    "ps_df[ps_df['Price']!=0].head()"
   ]
  },
  {
   "cell_type": "markdown",
   "metadata": {
    "id": "pZ7_5uoC5gfW"
   },
   "source": [
    "To convert this column from string to float, we must first drop the $ symbol from the all the values. Then we can assign float datatype to those values.\n",
    "\n",
    "Applying the `drop_dollar` function to convert the values in the` Price` column from string datatype to float datatype."
   ]
  },
  {
   "cell_type": "markdown",
   "metadata": {
    "id": "N4H4JxiEwYq0"
   },
   "source": [
    "### **`4). Converting the values in the `Installs`column from string datatype to integer datatype.`**"
   ]
  },
  {
   "cell_type": "code",
   "execution_count": null,
   "metadata": {
    "id": "HTUvhbkxwg1P"
   },
   "outputs": [],
   "source": [
    "ps_df['Installs'].value_counts()"
   ]
  },
  {
   "cell_type": "markdown",
   "metadata": {
    "id": "xML1CfKZ5p91"
   },
   "source": [
    "To convert all the values in the **Installs** column from string datatype to integer datatype, we must first drop the '+' symbol from all the entries if present and then we can change its datatype."
   ]
  },
  {
   "cell_type": "markdown",
   "metadata": {
    "id": "1DTNrj165yCj"
   },
   "source": [
    "Applying the `convert_plus` function to convert the values in the `Installs` column from string datatype to float datatype."
   ]
  },
  {
   "cell_type": "code",
   "execution_count": null,
   "metadata": {
    "id": "EnoRAfAhwl_V"
   },
   "outputs": [],
   "source": [
    "# Creating a function convert_plus which drops the '+' symbol if it is present and returns the output which is of integer datatype.\n",
    "\n",
    "def convert_plus(val):\n",
    "  '''\n",
    "  This function drops the + symbol if present and returns the value with int datatype.\n",
    "  '''\n",
    "  if '+' and ',' in val:\n",
    "    new = int(val[:-1].replace(',',''))\n",
    "    return new\n",
    "  elif '+' in val:\n",
    "    new1 = int(val[:-1])\n",
    "    return new1\n",
    "  else:\n",
    "    return int(val)"
   ]
  },
  {
   "cell_type": "code",
   "execution_count": null,
   "metadata": {
    "id": "BedDw7FvwvXn"
   },
   "outputs": [],
   "source": [
    "# The drop_plus funtion applied to the main dataframe\n",
    "\n",
    "ps_df['Installs'] = ps_df['Installs'].apply(lambda x: convert_plus(x))\n",
    "ps_df.head()"
   ]
  },
  {
   "cell_type": "markdown",
   "metadata": {
    "id": "-5JxI26C6Ac3"
   },
   "source": [
    "he resultant values in the **Installs** column are of the integer datatype, and it represents the least number of times a particular app has been installed.\n",
    "\n",
    "\n",
    "\n",
    "\n",
    "\n",
    "* **Installs** = 0 indicates that that particular app has not been installed by anyone yet."
   ]
  },
  {
   "cell_type": "markdown",
   "metadata": {
    "id": "yBaQwC1tw_CP"
   },
   "source": [
    "### **`5). Converting the values in the `Size` column to a same unit of measure(MB).`**"
   ]
  },
  {
   "cell_type": "code",
   "execution_count": null,
   "metadata": {
    "id": "66Mjhoe2wztc"
   },
   "outputs": [],
   "source": [
    "ps_df['Size'].value_counts()"
   ]
  },
  {
   "cell_type": "markdown",
   "metadata": {
    "id": "b2eED5L56LNn"
   },
   "source": [
    "We can see that the values in the Size column contains data with different units. 'M' stands for MB and 'k' stands for KB. To easily analyse this column, it is necessary to convert all the values to a single unit. In this case, we will convert all the units to MB.\n",
    "\n",
    "We know that 1MB = 1024KB, to convert KB to MB, we must divide all the values which are in KB by 1024."
   ]
  },
  {
   "cell_type": "code",
   "execution_count": null,
   "metadata": {
    "id": "jzbIlaVzxJJw"
   },
   "outputs": [],
   "source": [
    "# Defining a function to convert all the entries in KB to MB and then converting them to float datatype.\n",
    "\n",
    "def convert_kb_to_mb(val):\n",
    "  '''\n",
    "  This function converts all the valid entries in KB to MB and returns the result in float datatype.\n",
    "  '''\n",
    "  try:\n",
    "    if 'M' in val:\n",
    "      return float(val[:-1])\n",
    "    elif 'k' in val:\n",
    "      return round(float(val[:-1])/1024, 4)\n",
    "    else:\n",
    "      return val\n",
    "  except:\n",
    "    return val"
   ]
  },
  {
   "cell_type": "markdown",
   "metadata": {
    "id": "-jaS8CzD6Rkt"
   },
   "source": [
    "Applying the kb_to_mb function to convert the values in the Size column to a single unit of measure (MB) and the datatype from string to float."
   ]
  },
  {
   "cell_type": "code",
   "execution_count": null,
   "metadata": {
    "id": "yJgjUtLTxPa4"
   },
   "outputs": [],
   "source": [
    "# The kb_to_mb funtion applied to the size column\n",
    "\n",
    "ps_df['Size'] = ps_df['Size'].apply(lambda x: convert_kb_to_mb(x))\n",
    "ps_df.head()"
   ]
  },
  {
   "cell_type": "code",
   "execution_count": null,
   "metadata": {
    "id": "6-wYziCOxeyc"
   },
   "outputs": [],
   "source": [
    "ps_df['Size'] = ps_df['Size'].apply(lambda x: str(x).replace('Varies with device', 'NaN') if 'Varies with device' in str(x) else x)\n",
    "ps_df['Size'] = ps_df['Size'].apply(lambda x: float(x))"
   ]
  },
  {
   "cell_type": "markdown",
   "metadata": {
    "id": "TymLZdTP6Ykb"
   },
   "source": [
    "A vast majority of the entries in the Size column contain the entry Varies with device. Since this entry cannot be used for analysis lets see if it can be imputed with the mean or median value of the entries in this column."
   ]
  },
  {
   "cell_type": "code",
   "execution_count": null,
   "metadata": {
    "id": "DU-klp6mxjoo"
   },
   "outputs": [],
   "source": [
    "# Finding max, min, mean, and median in the Size column excluding the 'Varies with device' values.\n",
    "\n",
    "max_size = ps_df[ps_df['Size'] != 'Varies with device']['Size'].max()\n",
    "\n",
    "min_size = ps_df[ps_df['Size'] != 'Varies with device']['Size'].min()\n",
    "\n",
    "mean_size = round(ps_df[ps_df['Size'] != 'Varies with device']['Size'].mean(),4)\n",
    "\n",
    "median_size = ps_df[ps_df['Size'] != 'Varies with device']['Size'].median()\n",
    "\n",
    "[max_size, min_size, mean_size, median_size]"
   ]
  },
  {
   "cell_type": "markdown",
   "metadata": {
    "id": "9wqw2qKPxtbu"
   },
   "source": [
    "**Visualization of distribution of `**Size**` using displot and detecting the outliers through boxplot.**"
   ]
  },
  {
   "cell_type": "code",
   "execution_count": null,
   "metadata": {
    "id": "JMs4WmXaxpjd"
   },
   "outputs": [],
   "source": [
    "# Distplot\n",
    "fig, ax = plt.subplots(2,1, figsize=(12,7))\n",
    "sns.distplot(ps_df[ps_df['Size'] != 'Varies with device']['Size'], color='blue', ax=ax[0])\n",
    "sns.boxplot(x='Size',data=ps_df, ax=ax[1], color='pink')"
   ]
  },
  {
   "cell_type": "markdown",
   "metadata": {
    "id": "vEqz4vQ16jY8"
   },
   "source": [
    "* It is clear from the visualizations that the data in the **Size** column is skewed towards the right.\n",
    "* Also, we see that a vast majority of the entries in this column are of the value **Varies with device**, replacing this with any central tendency value (mean or median) may give incorrect visualizations and results. Hence these values are left as it is.\n",
    "\n",
    "* We have successfully converted all the valid entries in the **Size** column to a single unit of measure (MB) and the datatype from string to float."
   ]
  },
  {
   "cell_type": "markdown",
   "metadata": {
    "id": "ti8-lZH4yRAt"
   },
   "source": [
    "### **`6). Converting the datatype of values in the `Reviews` column from string to int.`**"
   ]
  },
  {
   "cell_type": "code",
   "execution_count": null,
   "metadata": {
    "id": "7AasEww4yKVj"
   },
   "outputs": [],
   "source": [
    "# Converting the datatype of the values in the reviews column from string to int\n",
    "ps_df['Reviews'] = ps_df['Reviews'].astype(int)\n",
    "ps_df.head()"
   ]
  },
  {
   "cell_type": "code",
   "execution_count": null,
   "metadata": {
    "id": "M4a-tJnbyb8E"
   },
   "outputs": [],
   "source": [
    "ps_df.describe()"
   ]
  },
  {
   "cell_type": "markdown",
   "metadata": {
    "id": "qzNOpU4p6tL_"
   },
   "source": [
    "We have successfully converted the datatype of the values in the Reviews column from string to int.\n",
    "\n",
    "Now that we have handled the errors and NaN values in the playstoredata.csv file, lets do the same for the userreviews.csv file."
   ]
  },
  {
   "cell_type": "markdown",
   "metadata": {
    "id": "fDa0OvSKyyST"
   },
   "source": [
    "# **`1). What is the ratio of number of Paid apps and Free apps?`**"
   ]
  },
  {
   "cell_type": "code",
   "execution_count": null,
   "metadata": {
    "id": "teRuimgky4VJ"
   },
   "outputs": [],
   "source": [
    "data = ps_df['Type'].value_counts() \n",
    "labels = ['Free', 'Paid']\n",
    "\n",
    "# create pie chart\n",
    "plt.figure(figsize=(10,10))\n",
    "colors = [\"#00EE76\",\"#7B8895\"]\n",
    "explode=(0.01,0.1)\n",
    "plt.pie(data, labels = labels, colors = colors, autopct='%.2f%%',explode=explode,textprops={'fontsize': 15})\n",
    "plt.title('Distribution of Paid and Free apps',size=15,loc='center')\n",
    "plt.legend()"
   ]
  },
  {
   "cell_type": "markdown",
   "metadata": {
    "id": "H8ejcwVn649a"
   },
   "source": [
    "**Findings:**\n",
    "\n",
    "From the above graph we can see that 92% of apps in google play store are free and 8%are paid."
   ]
  },
  {
   "cell_type": "markdown",
   "metadata": {
    "id": "0VGAqSWVzFea"
   },
   "source": [
    "## **`2).Which category of Apps from the Content Rating column are found more on playstore ?`**"
   ]
  },
  {
   "cell_type": "code",
   "execution_count": null,
   "metadata": {
    "id": "qPrNw38uzTYB"
   },
   "outputs": [],
   "source": [
    "# Content rating of the apps\n",
    "data = ps_df['Content Rating'].value_counts()\n",
    "labels = ['Everyone', 'Teen', 'Everyone 10+', 'Mature 17+','Adults only 18+', 'Unrated']\n",
    "\n",
    "#create pie chart\n",
    "plt.figure(figsize=(10,10))\n",
    "explode=(0,0.1,0.1,0.1,0.0,1.3)\n",
    "colors = ['C4', 'r', 'c', 'g', 'm', 'k']\n",
    "plt.pie(data, labels = labels, colors = colors, autopct='%.2f%%',explode=explode,textprops={'fontsize': 15})\n",
    "plt.title('Content Rating',size=20,loc='center')\n",
    "plt.legend()"
   ]
  },
  {
   "cell_type": "markdown",
   "metadata": {
    "id": "3sR_eYSk7An8"
   },
   "source": [
    "A majority of the apps (82%) in the play store are can be used by everyone.The remaining apps have various age restrictions to use it."
   ]
  },
  {
   "cell_type": "markdown",
   "metadata": {
    "id": "-O2VEEHLznd5"
   },
   "source": [
    "## **`3).Top categories on Google Playstore?`**"
   ]
  },
  {
   "cell_type": "code",
   "execution_count": null,
   "metadata": {
    "id": "NMWjoqWGzkNz"
   },
   "outputs": [],
   "source": [
    "ps_df.groupby(\"Category\")[\"App\"].count().sort_values(ascending= False)"
   ]
  },
  {
   "cell_type": "code",
   "execution_count": null,
   "metadata": {
    "id": "DUuqUoLzzxRr"
   },
   "outputs": [],
   "source": [
    "x = ps_df['Category'].value_counts()\n",
    "y = ps_df['Category'].value_counts().index\n",
    "x_list = []\n",
    "y_list = []\n",
    "for i in range(len(x)):\n",
    "    x_list.append(x[i])\n",
    "    y_list.append(y[i])"
   ]
  },
  {
   "cell_type": "code",
   "execution_count": null,
   "metadata": {
    "id": "3xs3vxz-z3Xf"
   },
   "outputs": [],
   "source": [
    "#Number of apps belonging to each category in the playstore\n",
    "plt.figure(figsize=(20,10))\n",
    "plt.xlabel('Number of Apps', size=15)\n",
    "plt.ylabel('App Categories', size=15)\n",
    "graph = sns.barplot(y = x_list, x = y_list, palette= \"tab10\")\n",
    "graph.set_title(\"Top categories on Playstore\", fontsize = 25)\n",
    "graph.set_xticklabels(graph.get_xticklabels(), rotation= 45, horizontalalignment='right',);"
   ]
  },
  {
   "cell_type": "code",
   "execution_count": null,
   "metadata": {
    "id": "gR8q2pKl0DSJ"
   },
   "outputs": [],
   "source": [
    "# Percentage of apps belonging to each category in the playstore\n",
    "plt.figure(figsize=(18,18))\n",
    "plt.pie(ps_df.Category.value_counts(), labels=ps_df.Category.value_counts().index, autopct='%1.2f%%')\n",
    "my_circle = plt.Circle( (0,0), 0.50, color='white')\n",
    "p=plt.gcf()\n",
    "p.gca().add_artist(my_circle)\n",
    "plt.title('% of apps share in each Category', fontsize = 25)\n",
    "plt.show()"
   ]
  },
  {
   "cell_type": "markdown",
   "metadata": {
    "id": "vPEkpXvo7IV4"
   },
   "source": [
    "**Findings:**\n",
    "\n",
    "So there are all total 33 categories in the dataset From the above output we can come to a conclusion that in playstore most of the apps are under` FAMILY & GAME` category and least are of `EVENTS & BEAUTY` Category."
   ]
  },
  {
   "cell_type": "markdown",
   "metadata": {
    "id": "HLCGCuNw0MOz"
   },
   "source": [
    "### **`4). Which category App's have most number of installs?`**"
   ]
  },
  {
   "cell_type": "code",
   "execution_count": null,
   "metadata": {
    "id": "4reQcR0E0HYM"
   },
   "outputs": [],
   "source": [
    "# total app installs in each category of the play store\n",
    "\n",
    "a = ps_df.groupby(['Category'])['Installs'].sum().sort_values()\n",
    "a.plot.barh(figsize=(15,10), color = 'c', )\n",
    "plt.ylabel('Total app Installs', fontsize = 15)\n",
    "plt.xlabel('App Categories', fontsize = 15)\n",
    "plt.xticks()\n",
    "plt.title('Total app installs in each category', fontsize = 20)"
   ]
  },
  {
   "cell_type": "markdown",
   "metadata": {
    "id": "6xXk28pR7Ppx"
   },
   "source": [
    "**Findings:**\n",
    "\n",
    "This tells us the category of apps that has the maximum number of installs. The `Game,` `Communication and Tools` categories has the highest number of installs compared to other categories of apps."
   ]
  },
  {
   "cell_type": "markdown",
   "metadata": {
    "id": "6xAQr_Qs0jAn"
   },
   "source": [
    "### **`5). Average rating of the apps`**"
   ]
  },
  {
   "cell_type": "code",
   "execution_count": null,
   "metadata": {
    "id": "5Xpreuw20pXa"
   },
   "outputs": [],
   "source": [
    "# Average app ratings\n",
    "\n",
    "ps_df['Rating'].value_counts().plot.bar(figsize=(20,8), color = 'm' )\n",
    "plt.xlabel('Average rating',fontsize = 15 )\n",
    "plt.ylabel('Number of apps', fontsize = 15)\n",
    "plt.title('Average rating of apps in Playstore', fontsize = 20)\n",
    "plt.legend()"
   ]
  },
  {
   "cell_type": "markdown",
   "metadata": {
    "id": "ivGPGSvA7WO2"
   },
   "source": [
    "We can represent the ratings in a better way if we group the ratings between certain intervals. Here, we can group the rating as follows:\n",
    "\n",
    "* 4-5: Top rated\n",
    "* 3-4: Above average\n",
    "* 2-3: Average\n",
    "* 1-2: Below average"
   ]
  },
  {
   "cell_type": "markdown",
   "metadata": {
    "id": "cgj8q26f01hC"
   },
   "source": [
    "### **`6). What are the Top 10 installed apps in any category?`**"
   ]
  },
  {
   "cell_type": "code",
   "execution_count": null,
   "metadata": {
    "id": "1SpJy0T21Cxo"
   },
   "outputs": [],
   "source": [
    "def findtop10incategory(str):\n",
    "    str = str.upper()\n",
    "    top10 = ps_df[ps_df['Category'] == str]\n",
    "    top10apps = top10.sort_values(by='Installs', ascending=False).head(10)\n",
    "    plt.figure(figsize=(15,6), dpi=100)\n",
    "    plt.title('Top 10 Installed Apps',size = 20)  \n",
    "    graph = sns.barplot(x = top10apps.App, y = top10apps.Installs, palette= \"icefire\")\n",
    "    graph.set_xticklabels(graph.get_xticklabels(), rotation= 45, horizontalalignment='right')"
   ]
  },
  {
   "cell_type": "code",
   "execution_count": null,
   "metadata": {
    "id": "eQmfyeiu1MKL"
   },
   "outputs": [],
   "source": [
    "findtop10incategory('GAME')"
   ]
  },
  {
   "cell_type": "markdown",
   "metadata": {
    "id": "-CqZTZwG7kO4"
   },
   "source": [
    "**Findings:**\n",
    "\n",
    "From the above graph we can see that in the **`Game category Subway Surfers,Candy Crush Saga, Temple Run 2`** has the highest installs. In the same way we by passing different category names to the function, we can get the top 10 installed apps."
   ]
  },
  {
   "cell_type": "markdown",
   "metadata": {
    "id": "xIfEIdPf1WK-"
   },
   "source": [
    "### **`7). Top apps that are of free type.`**"
   ]
  },
  {
   "cell_type": "code",
   "execution_count": null,
   "metadata": {
    "id": "OHz4nqcq1O0U"
   },
   "outputs": [],
   "source": [
    " # Creating a df for only free apps\n",
    " \n",
    " free_df = ps_df[ps_df['Type'] == 'Free']"
   ]
  },
  {
   "cell_type": "code",
   "execution_count": null,
   "metadata": {
    "id": "yaJfiR4f1i58"
   },
   "outputs": [],
   "source": [
    "# Creating a df for top free apps\n",
    "\n",
    "top_free_df = free_df[free_df['Installs'] == free_df['Installs'].max()]\n",
    "top10free_apps=top_free_df.nlargest(10, 'Installs', keep='first')\n",
    "top10free_apps.head(10)"
   ]
  },
  {
   "cell_type": "code",
   "execution_count": null,
   "metadata": {
    "id": "xLsCD9Mb1qng"
   },
   "outputs": [],
   "source": [
    "# Top free apps\n",
    "\n",
    "top_free_df['App']"
   ]
  },
  {
   "cell_type": "code",
   "execution_count": null,
   "metadata": {
    "id": "KttP290z1vte"
   },
   "outputs": [],
   "source": [
    "# Categories in which the top 20 free apps belong to\n",
    "top_free_df['Category'].value_counts().plot.bar(figsize=(20,6), color= ('darkcyan','blueviolet'))\n",
    "plt.xlabel('Category', size=15)\n",
    "plt.ylabel('Number of apps', size=15)\n",
    "plt.title('Categories in which the top 20 free apps belong', size=19)\n",
    "plt.xticks(rotation=45)\n",
    "plt.legend()"
   ]
  },
  {
   "cell_type": "markdown",
   "metadata": {
    "id": "gCX9965dhzqZ"
   },
   "source": [
    "# **Conclusion**"
   ]
  },
  {
   "cell_type": "markdown",
   "metadata": {
    "id": "Fjb1IsQkh3yE"
   },
   "source": [
    "In this project of analyzing play store applications, we have worked on several parameters which would help AlmaBetter to do well in launching their apps on the play store.\n",
    "\n",
    "In the initial phase, we focused more on the problem statements and data cleaning, in order to ensure that we give them the best results out of our analysis.\n",
    "\n",
    "AlmaBetter needs to focus more on:\n",
    "1. Developing apps related to the least categories as they are not explored much. Like events and beauty.\n",
    "2. Most of the apps are Free, so focusing on free app is more important.\n",
    "3. Focusing more on content available for Everyone will increase the chances of getting the highest installs.\n",
    "4. They need to focus on updating their apps regularly, so that it will attract more users.\n",
    "5. They need to keep in mind that the sentiments of the user keep varying as they keep using the app, so they should focus more on users needs and features.\n",
    "\n",
    "* Percentage of free apps = ~92%\n",
    "* Percentage of apps with no age restrictions = ~82%\n",
    "* Most competitive category: Family\n",
    "* Category with the highest average app installs: Game\n",
    "* Percentage of apps that are top rated = ~80%\n",
    "* Family, Game and Tools are top three categories having 1906, 926 and 829 app count. \n",
    "* Tools, Entertainment, Education, Buisness and Medical are top Genres. \n",
    "* 8783 Apps are having size less than 50 MB. 7749 Apps are having rating more than 4.0 including both type of apps.\n",
    "* There are 20 free apps that have been installed over a billion times.\n",
    "* Minecraft is the only app in the paid category with over 10M installs. This app has also produced the most revenue only from the installation fee.\n",
    "* Category in which the paid apps have the highest average installation fee: Finance\n",
    "* The median size of all apps in the play store is 12 MB.\n",
    "* The apps whose size varies with device has the highest number average app installs.\n",
    "* The apps whose size is greater than 90 MB has the highest number of average user reviews, ie, they are more popular than the rest.\n",
    "* Helix Jump has the highest number of positive reviews and Angry Birds Classic has the highest number of negative reviews.\n",
    "* Overall sentiment count of merged dataset in which Positive sentiment count is 64%, Negative 22% and Neutral 13%."
   ]
  },
  {
   "cell_type": "markdown",
   "metadata": {
    "id": "6_jTIfxH2c5R"
   },
   "source": [
    "**1.Rating**\n",
    "\n",
    "Most of the apps have rating in between 4 and 5.\n",
    "\n",
    "Most numbers of apps are rated at 4.3\n",
    "\n",
    "Categories of apps have more than 4 average rating.item\n",
    "\n",
    " **2.Size**\n",
    "\n",
    "Maximum number of applications present in the dataset are of small size.\n",
    "\n",
    "**3.Installs**\n",
    "\n",
    "Majority of the apps come into these three categories, Family, Game, and Tools.\n",
    "\n",
    "Maximum number of apps present in google play store come under Family, Game and tools but as per the installation and requirement in the market plot, scenario is not the same. Maximum installed apps comes under Game, Communication, Productivity and Social.\n",
    "\n",
    "Subway Surfers, Facebook, Messenger and Google Drive are the most installed apps.\n",
    "\n",
    "**4.Type(Free/Paid)**\n",
    "\n",
    "About 92% apps are free and 8% apps are of paid type.\n",
    "\n",
    "The category ‘Family’ has the highest number of paid apps.\n",
    "\n",
    "Free apps are installed more than paid apps.\n",
    "\n",
    "The app “I’m Rich — Trump Edition” from the category ‘Lifestyle’ is the most costly app priced at $400\n",
    "\n",
    "**5.Content Rating**\n",
    "\n",
    "Content having Everyone only has most installs, while unrated and Adults only 18+ have less installs.\n",
    "\n",
    "**6.Reviews**\n",
    "\n",
    "Number of installs is positively correlated with reviews with correlation 0.64.\n",
    "Sentiment Analysis\n",
    "\n",
    "**7.Sentiment** \n",
    "\n",
    "Most of the reviews are of Positive Sentiment, while Negative and Neutral have low number of reviews.\n",
    "\n",
    "**8.Sentiment Polarity / Sentiment Subjectivity**\n",
    "\n",
    "Collection of reviews shows a wide range of subjectivity and most of the reviews fall in [-0.50,0.75] polarity scale implying that the extremely negative or positive sentiments are significantly low.\n",
    "Most of the reviews show a mid-range of negative and positive sentiments.\n",
    "\n",
    "Sentiment subjectivity is not always proportional to sentiment polarity but in maximum number of case, shows a proportional behavior, when variance is too high or low.\n",
    "\n",
    "Sentiment Polarity is not highly correlated with Sentiment Subjectivity."
   ]
  }
 ],
 "metadata": {
  "colab": {
   "include_colab_link": true,
   "private_outputs": true,
   "provenance": []
  },
  "kernelspec": {
   "display_name": "Python 3 (ipykernel)",
   "language": "python",
   "name": "python3"
  },
  "language_info": {
   "codemirror_mode": {
    "name": "ipython",
    "version": 3
   },
   "file_extension": ".py",
   "mimetype": "text/x-python",
   "name": "python",
   "nbconvert_exporter": "python",
   "pygments_lexer": "ipython3",
   "version": "3.12.2"
  }
 },
 "nbformat": 4,
 "nbformat_minor": 4
}
